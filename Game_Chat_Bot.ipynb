{
 "cells": [
  {
   "cell_type": "code",
   "execution_count": 1,
   "metadata": {},
   "outputs": [
    {
     "name": "stdout",
     "output_type": "stream",
     "text": [
      "Requirement already satisfied: nltk in c:\\users\\fassf\\anaconda3\\lib\\site-packages (3.5)\n",
      "Requirement already satisfied: click in c:\\users\\fassf\\anaconda3\\lib\\site-packages (from nltk) (7.1.2)\n",
      "Requirement already satisfied: joblib in c:\\users\\fassf\\anaconda3\\lib\\site-packages (from nltk) (0.17.0)\n",
      "Requirement already satisfied: regex in c:\\users\\fassf\\anaconda3\\lib\\site-packages (from nltk) (2020.10.15)\n",
      "Requirement already satisfied: tqdm in c:\\users\\fassf\\anaconda3\\lib\\site-packages (from nltk) (4.50.2)\n"
     ]
    }
   ],
   "source": [
    "!pip install nltk"
   ]
  },
  {
   "cell_type": "code",
   "execution_count": 2,
   "metadata": {},
   "outputs": [],
   "source": [
    "from nltk.chat.util import Chat,reflections"
   ]
  },
  {
   "cell_type": "code",
   "execution_count": 3,
   "metadata": {},
   "outputs": [],
   "source": [
    "pairs=[\n",
    "    [\"my name is (.*)\",[\"That is the nice name %1.\"]],\n",
    "    \n",
    "    [\"(hi|hola|hello|halo|holla)\",[\"hi dudes\",\"heeeeyoo\",\"hola my friend.\"]],\n",
    "    \n",
    "    [\"(.*) created you\",[\"Somebody who love Python.\"]],\n",
    "    \n",
    "    [\"(.*) your name\",[\"AKA F-BOT.\"]],\n",
    "    \n",
    "    [\"(.*) do you created\",[\"For give a game advice \",\"For fun.\"]],\n",
    "    \n",
    "    [\"(.*) your favourite game\",[\"Grand Theft Auto Series\"]],\n",
    "    \n",
    "    [\"(.*) do you spend time for game\",[\"Ha-ha .I am not person .I cant play games\"]],\n",
    "    \n",
    "    [\"Is playing harmful\",[\"It is the dosage that makes the poison poison.\"]],\n",
    "    \n",
    "    [\"(.*) benefit play game\",[\"Video games can increase your brain’s gray matter.\",\n",
    "                              \"Gamers may have better social skills.\",\n",
    "                              \"Video games can have mental health benefits.\"]],\n",
    "    \n",
    "    [\"(.*) action game do you advice\",[\"Half-Life 2\",\n",
    "                                       \"Tekken 3\",\n",
    "                                       \"Red Dead Redemption\",\n",
    "                                       \"Call Of Duty Series\"]],\n",
    "    \n",
    "    [\"(.*) sport game do you advice\",[\"Pro Evaulation Soccer Series\",\n",
    "                                       \"FIFA Series\"]],\n",
    "    \n",
    "    [\"(.*) horror game do you advice\",[\"Outlast\",\n",
    "                                       \"Resident Evil\",\n",
    "                                       \"Silent Hills\"]],\n",
    "      \n",
    "]"
   ]
  },
  {
   "cell_type": "code",
   "execution_count": null,
   "metadata": {},
   "outputs": [],
   "source": []
  },
  {
   "cell_type": "code",
   "execution_count": null,
   "metadata": {
    "scrolled": true
   },
   "outputs": [
    {
     "name": "stdin",
     "output_type": "stream",
     "text": [
      "> hi\n"
     ]
    },
    {
     "name": "stdout",
     "output_type": "stream",
     "text": [
      "hola my friend.\n"
     ]
    },
    {
     "name": "stdin",
     "output_type": "stream",
     "text": [
      "> hola\n"
     ]
    },
    {
     "name": "stdout",
     "output_type": "stream",
     "text": [
      "hola my friend.\n"
     ]
    },
    {
     "name": "stdin",
     "output_type": "stream",
     "text": [
      "> hello\n"
     ]
    },
    {
     "name": "stdout",
     "output_type": "stream",
     "text": [
      "hi dudes\n"
     ]
    },
    {
     "name": "stdin",
     "output_type": "stream",
     "text": [
      "> what is your name\n"
     ]
    },
    {
     "name": "stdout",
     "output_type": "stream",
     "text": [
      "AKA F-BOT.\n"
     ]
    },
    {
     "name": "stdin",
     "output_type": "stream",
     "text": [
      "> my name is Sarah\n"
     ]
    },
    {
     "name": "stdout",
     "output_type": "stream",
     "text": [
      "That is the nice name sarah.\n"
     ]
    },
    {
     "name": "stdin",
     "output_type": "stream",
     "text": [
      "> Who created you\n"
     ]
    },
    {
     "name": "stdout",
     "output_type": "stream",
     "text": [
      "Somebody who love Python.\n"
     ]
    },
    {
     "name": "stdin",
     "output_type": "stream",
     "text": [
      "> Why do you created\n"
     ]
    },
    {
     "name": "stdout",
     "output_type": "stream",
     "text": [
      "For give a game advice \n"
     ]
    },
    {
     "name": "stdin",
     "output_type": "stream",
     "text": [
      "> Is playing harmful\n"
     ]
    },
    {
     "name": "stdout",
     "output_type": "stream",
     "text": [
      "It is the dosage that makes the poison poison.\n"
     ]
    },
    {
     "name": "stdin",
     "output_type": "stream",
     "text": [
      "> How much do you spend for game\n"
     ]
    },
    {
     "name": "stdout",
     "output_type": "stream",
     "text": [
      "None\n"
     ]
    },
    {
     "name": "stdin",
     "output_type": "stream",
     "text": [
      "> How much do you spend time for game\n"
     ]
    },
    {
     "name": "stdout",
     "output_type": "stream",
     "text": [
      "Ha-ha .I am not person .I cant play games\n"
     ]
    },
    {
     "name": "stdin",
     "output_type": "stream",
     "text": [
      "> what benefit play game\n"
     ]
    },
    {
     "name": "stdout",
     "output_type": "stream",
     "text": [
      "Gamers may have better social skills.\n"
     ]
    },
    {
     "name": "stdin",
     "output_type": "stream",
     "text": [
      "> what benefit play game\n"
     ]
    },
    {
     "name": "stdout",
     "output_type": "stream",
     "text": [
      "Video games can increase your brain’s gray matter.\n"
     ]
    },
    {
     "name": "stdin",
     "output_type": "stream",
     "text": [
      "> what is your favourite game\n"
     ]
    },
    {
     "name": "stdout",
     "output_type": "stream",
     "text": [
      "Grand Theft Auto Series\n"
     ]
    }
   ],
   "source": [
    "chat=Chat(pairs,reflections)\n",
    "\n",
    "chat.converse(quit=\"Bye\")"
   ]
  },
  {
   "cell_type": "code",
   "execution_count": null,
   "metadata": {},
   "outputs": [],
   "source": []
  }
 ],
 "metadata": {
  "kernelspec": {
   "display_name": "Python 3",
   "language": "python",
   "name": "python3"
  },
  "language_info": {
   "codemirror_mode": {
    "name": "ipython",
    "version": 3
   },
   "file_extension": ".py",
   "mimetype": "text/x-python",
   "name": "python",
   "nbconvert_exporter": "python",
   "pygments_lexer": "ipython3",
   "version": "3.8.5"
  }
 },
 "nbformat": 4,
 "nbformat_minor": 4
}
